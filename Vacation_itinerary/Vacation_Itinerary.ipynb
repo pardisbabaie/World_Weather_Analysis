{
 "cells": [
  {
   "cell_type": "markdown",
   "metadata": {},
   "source": [
    "## Deliverable 3. Create a Travel Itinerary Map."
   ]
  },
  {
   "cell_type": "code",
   "execution_count": 1,
   "metadata": {},
   "outputs": [],
   "source": [
    "# Dependencies and Setup\n",
    "import pandas as pd\n",
    "import requests\n",
    "import gmaps\n",
    "\n",
    "# Import API key\n",
    "from config import g_key\n",
    "\n",
    "# Configure gmaps\n",
    "gmaps.configure(api_key=g_key)"
   ]
  },
  {
   "cell_type": "code",
   "execution_count": 2,
   "metadata": {},
   "outputs": [
    {
     "output_type": "execute_result",
     "data": {
      "text/plain": "   City_ID             City Country  Max Temp Current Description    Lat  \\\n0        4         Tandalti      SD     85.30    scattered clouds  13.02   \n1       15            Kapaa      US     84.99    scattered clouds  22.08   \n2       18            Kutum      SD     82.89       broken clouds  14.20   \n3       19          Kumluca      TR     76.23           clear sky  36.37   \n4       23  Rio Novo Do Sul      BR     80.24           clear sky -20.86   \n\n      Lng                              Hotel Name  \n0   31.87                منزل : الهادي محمد مساعد  \n1 -159.32  Sheraton Kauai Resort at Coconut Beach  \n2   24.67                     Dibbo areaمنطقة دبو  \n3   30.29                              TurkuazKöy  \n4  -40.94                      Pousada Três Irmãs  ",
      "text/html": "<div>\n<style scoped>\n    .dataframe tbody tr th:only-of-type {\n        vertical-align: middle;\n    }\n\n    .dataframe tbody tr th {\n        vertical-align: top;\n    }\n\n    .dataframe thead th {\n        text-align: right;\n    }\n</style>\n<table border=\"1\" class=\"dataframe\">\n  <thead>\n    <tr style=\"text-align: right;\">\n      <th></th>\n      <th>City_ID</th>\n      <th>City</th>\n      <th>Country</th>\n      <th>Max Temp</th>\n      <th>Current Description</th>\n      <th>Lat</th>\n      <th>Lng</th>\n      <th>Hotel Name</th>\n    </tr>\n  </thead>\n  <tbody>\n    <tr>\n      <th>0</th>\n      <td>4</td>\n      <td>Tandalti</td>\n      <td>SD</td>\n      <td>85.30</td>\n      <td>scattered clouds</td>\n      <td>13.02</td>\n      <td>31.87</td>\n      <td>منزل : الهادي محمد مساعد</td>\n    </tr>\n    <tr>\n      <th>1</th>\n      <td>15</td>\n      <td>Kapaa</td>\n      <td>US</td>\n      <td>84.99</td>\n      <td>scattered clouds</td>\n      <td>22.08</td>\n      <td>-159.32</td>\n      <td>Sheraton Kauai Resort at Coconut Beach</td>\n    </tr>\n    <tr>\n      <th>2</th>\n      <td>18</td>\n      <td>Kutum</td>\n      <td>SD</td>\n      <td>82.89</td>\n      <td>broken clouds</td>\n      <td>14.20</td>\n      <td>24.67</td>\n      <td>Dibbo areaمنطقة دبو</td>\n    </tr>\n    <tr>\n      <th>3</th>\n      <td>19</td>\n      <td>Kumluca</td>\n      <td>TR</td>\n      <td>76.23</td>\n      <td>clear sky</td>\n      <td>36.37</td>\n      <td>30.29</td>\n      <td>TurkuazKöy</td>\n    </tr>\n    <tr>\n      <th>4</th>\n      <td>23</td>\n      <td>Rio Novo Do Sul</td>\n      <td>BR</td>\n      <td>80.24</td>\n      <td>clear sky</td>\n      <td>-20.86</td>\n      <td>-40.94</td>\n      <td>Pousada Três Irmãs</td>\n    </tr>\n  </tbody>\n</table>\n</div>"
     },
     "metadata": {},
     "execution_count": 2
    }
   ],
   "source": [
    "# 1. Read the WeatherPy_vacation.csv into a DataFrame.\n",
    "vacation_df = pd.read_csv(\"../Vacation_Search/WeatherPy_vacation.csv\")\n",
    "vacation_df.head()"
   ]
  },
  {
   "cell_type": "code",
   "execution_count": 3,
   "metadata": {},
   "outputs": [],
   "source": [
    "# 2. Using the template add the city name, the country code, the weather description and maximum temperature for the city.\n",
    "info_box_template = \"\"\"\n",
    "<dl>\n",
    "<dt>Hotel Name</dt><dd>{Hotel Name}</dd>\n",
    "<dt>City</dt><dd>{City}</dd>\n",
    "<dt>Country</dt><dd>{Country}</dd>\n",
    "<dt>Max Temp</dt><dd>{Max Temp} °F</dd>\n",
    "</dl>\n",
    "\"\"\"\n",
    "\n",
    "# 3a. Get the data from each row and add it to the formatting template and store the data in a list.\n",
    "hotel_info = [info_box_template.format(**row) for index, row in vacation_df.iterrows()]\n",
    "\n",
    "# 3b. Get the latitude and longitude from each row and store in a new DataFrame.\n",
    "locations = vacation_df[[\"Lat\", \"Lng\"]]"
   ]
  },
  {
   "cell_type": "code",
   "execution_count": 4,
   "metadata": {},
   "outputs": [
    {
     "output_type": "display_data",
     "data": {
      "text/plain": "Figure(layout=FigureLayout(height='420px'))",
      "application/vnd.jupyter.widget-view+json": {
       "version_major": 2,
       "version_minor": 0,
       "model_id": "6d9efd582ecc481eaf32b98d5047c368"
      }
     },
     "metadata": {}
    }
   ],
   "source": [
    "# 4a. Add a marker layer for each city to the map.\n",
    "fig = gmaps.figure(center=(30.0, 31.0), zoom_level=1.5)\n",
    "\n",
    "marker_layer = gmaps.marker_layer(locations, info_box_content=hotel_info)\n",
    "\n",
    "fig.add_layer(marker_layer)\n",
    "# 4b. Display the figure\n",
    "fig\n"
   ]
  },
  {
   "cell_type": "code",
   "execution_count": 5,
   "metadata": {},
   "outputs": [
    {
     "output_type": "execute_result",
     "data": {
      "text/plain": "    City_ID         City Country  Max Temp Current Description    Lat     Lng  \\\n33      118  San Quintin      MX     86.04           clear sky  30.48 -115.95   \n\n        Hotel Name  \n33  Old Mill Hotel  ",
      "text/html": "<div>\n<style scoped>\n    .dataframe tbody tr th:only-of-type {\n        vertical-align: middle;\n    }\n\n    .dataframe tbody tr th {\n        vertical-align: top;\n    }\n\n    .dataframe thead th {\n        text-align: right;\n    }\n</style>\n<table border=\"1\" class=\"dataframe\">\n  <thead>\n    <tr style=\"text-align: right;\">\n      <th></th>\n      <th>City_ID</th>\n      <th>City</th>\n      <th>Country</th>\n      <th>Max Temp</th>\n      <th>Current Description</th>\n      <th>Lat</th>\n      <th>Lng</th>\n      <th>Hotel Name</th>\n    </tr>\n  </thead>\n  <tbody>\n    <tr>\n      <th>33</th>\n      <td>118</td>\n      <td>San Quintin</td>\n      <td>MX</td>\n      <td>86.04</td>\n      <td>clear sky</td>\n      <td>30.48</td>\n      <td>-115.95</td>\n      <td>Old Mill Hotel</td>\n    </tr>\n  </tbody>\n</table>\n</div>"
     },
     "metadata": {},
     "execution_count": 5
    }
   ],
   "source": [
    "# From the map above pick 4 cities and create a vacation itinerary route to travel between the four cities. \n",
    "# 5. Create DataFrames for each city by filtering the 'vacation_df' using the loc method. \n",
    "# Hint: The starting and ending city should be the same city.\n",
    "\n",
    "vacation_start = vacation_df.loc[vacation_df['City'] == \"Coahuayana\"]\n",
    "vacation_end = vacation_df.loc[vacation_df['City'] == 'Coahuayana']\n",
    "vacation_stop1 = vacation_df.loc[vacation_df['City'] == 'Palomares']\n",
    "vacation_stop2 = vacation_df.loc[vacation_df['City'] == \"San Quintin\"] \n",
    "vacation_stop3 = vacation_df.loc[vacation_df['City'] == 'Paredon'] \n",
    "vacation_stop2"
   ]
  },
  {
   "cell_type": "code",
   "execution_count": 18,
   "metadata": {},
   "outputs": [
    {
     "output_type": "execute_result",
     "data": {
      "text/plain": "(18.73, -103.68)"
     },
     "metadata": {},
     "execution_count": 18
    }
   ],
   "source": [
    "# 6. Get the latitude-longitude pairs as tuples from each city DataFrame using the to_numpy function and list indexing.\n",
    "start = list(vacation_start.to_records(index=False))[0]\n",
    "start_pair = (start[5], start[6])\n",
    "end = list(vacation_end.to_records(index=False))[0]\n",
    "end_pair = (end[5], end[6])\n",
    "stop1 = list(vacation_stop1.to_records(index=False))[0]\n",
    "stop1_pair = (stop1[5], stop1[6])\n",
    "stop2 = list(vacation_stop2.to_records(index=False))[0]\n",
    "stop2_pair = (stop2[5],stop2[6])\n",
    "stop3 = list(vacation_stop3.to_records(index=False))[0]\n",
    "stop3_pair = (stop3[5], stop3[6])\n",
    "end_pair"
   ]
  },
  {
   "cell_type": "code",
   "execution_count": 19,
   "metadata": {
    "scrolled": true
   },
   "outputs": [
    {
     "output_type": "display_data",
     "data": {
      "text/plain": "Figure(layout=FigureLayout(height='420px'))",
      "application/vnd.jupyter.widget-view+json": {
       "version_major": 2,
       "version_minor": 0,
       "model_id": "479211fa7a9f442c978e1de67f9604ce"
      }
     },
     "metadata": {}
    }
   ],
   "source": [
    "# 7. Create a direction layer map using the start and end latitude-longitude pairs,\n",
    "# and stop1, stop2, and stop3 as the waypoints. The travel_mode should be \"DRIVING\", \"BICYCLING\", or \"WALKING\".\n",
    "\n",
    "fig = gmaps.figure()\n",
    "Mexico_trip = gmaps.directions_layer(\n",
    "        start_pair, end_pair, waypoints=[stop1_pair, stop2_pair, stop3_pair],\n",
    "        travel_mode='DRIVING')\n",
    "fig.add_layer(Mexico_trip)\n",
    "fig"
   ]
  },
  {
   "cell_type": "code",
   "execution_count": 8,
   "metadata": {},
   "outputs": [
    {
     "output_type": "execute_result",
     "data": {
      "text/plain": "   City_ID         City Country  Max Temp Current Description    Lat     Lng  \\\n0       39   Coahuayana      MX     84.20    scattered clouds  18.73 -103.68   \n1      111    Palomares      MX     79.45          light rain  17.15  -95.07   \n2      118  San Quintin      MX     86.04           clear sky  30.48 -115.95   \n3      318      Paredon      MX     86.11     overcast clouds  16.03  -93.87   \n\n                Hotel Name  \n0          Hotel Los Arcos  \n1            Hotel Monarca  \n2           Old Mill Hotel  \n3  Hotel Principal Paredon  ",
      "text/html": "<div>\n<style scoped>\n    .dataframe tbody tr th:only-of-type {\n        vertical-align: middle;\n    }\n\n    .dataframe tbody tr th {\n        vertical-align: top;\n    }\n\n    .dataframe thead th {\n        text-align: right;\n    }\n</style>\n<table border=\"1\" class=\"dataframe\">\n  <thead>\n    <tr style=\"text-align: right;\">\n      <th></th>\n      <th>City_ID</th>\n      <th>City</th>\n      <th>Country</th>\n      <th>Max Temp</th>\n      <th>Current Description</th>\n      <th>Lat</th>\n      <th>Lng</th>\n      <th>Hotel Name</th>\n    </tr>\n  </thead>\n  <tbody>\n    <tr>\n      <th>0</th>\n      <td>39</td>\n      <td>Coahuayana</td>\n      <td>MX</td>\n      <td>84.20</td>\n      <td>scattered clouds</td>\n      <td>18.73</td>\n      <td>-103.68</td>\n      <td>Hotel Los Arcos</td>\n    </tr>\n    <tr>\n      <th>1</th>\n      <td>111</td>\n      <td>Palomares</td>\n      <td>MX</td>\n      <td>79.45</td>\n      <td>light rain</td>\n      <td>17.15</td>\n      <td>-95.07</td>\n      <td>Hotel Monarca</td>\n    </tr>\n    <tr>\n      <th>2</th>\n      <td>118</td>\n      <td>San Quintin</td>\n      <td>MX</td>\n      <td>86.04</td>\n      <td>clear sky</td>\n      <td>30.48</td>\n      <td>-115.95</td>\n      <td>Old Mill Hotel</td>\n    </tr>\n    <tr>\n      <th>3</th>\n      <td>318</td>\n      <td>Paredon</td>\n      <td>MX</td>\n      <td>86.11</td>\n      <td>overcast clouds</td>\n      <td>16.03</td>\n      <td>-93.87</td>\n      <td>Hotel Principal Paredon</td>\n    </tr>\n  </tbody>\n</table>\n</div>"
     },
     "metadata": {},
     "execution_count": 8
    }
   ],
   "source": [
    "# 8. To create a marker layer map between the four cities.\n",
    "#  Combine the four city DataFrames into one DataFrame using the concat() function.\n",
    "itinerary_df = pd.concat([vacation_start, vacation_stop1, vacation_stop2, vacation_stop3],ignore_index=True)\n",
    "itinerary_df"
   ]
  },
  {
   "cell_type": "code",
   "execution_count": 20,
   "metadata": {},
   "outputs": [],
   "source": [
    "# 9 Using the template add city name, the country code, the weather description and maximum temperature for the city. \n",
    "info_box_template = \"\"\"\n",
    "<dl>\n",
    "<dt>Hotel Name</dt><dd>{Hotel Name}</dd>\n",
    "<dt>City</dt><dd>{City}</dd>\n",
    "<dt>Country</dt><dd>{Country}</dd>\n",
    "<dt>Max Temp</dt><dd>{Max Temp} °F</dd>\n",
    "<dt>Current Weather</dt><dd>{Current Description}</dd>\n",
    "</dl>\n",
    "\"\"\"\n",
    "\n",
    "# 10a Get the data from each row and add it to the formatting template and store the data in a list.\n",
    "hotel_info = [info_box_template.format(**row) for index, row in itinerary_df.iterrows()]\n",
    "\n",
    "# 10b. Get the latitude and longitude from each row and store in a new DataFrame.\n",
    "locations = itinerary_df[[\"Lat\", \"Lng\"]]"
   ]
  },
  {
   "cell_type": "code",
   "execution_count": 21,
   "metadata": {},
   "outputs": [
    {
     "output_type": "display_data",
     "data": {
      "text/plain": "Figure(layout=FigureLayout(height='420px'))",
      "application/vnd.jupyter.widget-view+json": {
       "version_major": 2,
       "version_minor": 0,
       "model_id": "9d275e7a53344a87965c4fb4bc54c69d"
      }
     },
     "metadata": {}
    }
   ],
   "source": [
    "# 11a. Add a marker layer for each city to the map.\n",
    "fig = gmaps.figure(center=(30.0, 31.0), zoom_level=5.0)\n",
    "\n",
    "marker_layer = gmaps.marker_layer(locations, info_box_content=hotel_info)\n",
    "fig.add_layer(marker_layer)\n",
    "# 11b. Display the figure\n",
    "fig"
   ]
  },
  {
   "cell_type": "code",
   "execution_count": null,
   "metadata": {},
   "outputs": [],
   "source": []
  }
 ],
 "metadata": {
  "kernelspec": {
   "display_name": "test",
   "language": "python",
   "name": "test"
  },
  "language_info": {
   "codemirror_mode": {
    "name": "ipython",
    "version": 3
   },
   "file_extension": ".py",
   "mimetype": "text/x-python",
   "name": "python",
   "nbconvert_exporter": "python",
   "pygments_lexer": "ipython3",
   "version": "3.8.5-final"
  },
  "latex_envs": {
   "LaTeX_envs_menu_present": true,
   "autoclose": false,
   "autocomplete": true,
   "bibliofile": "biblio.bib",
   "cite_by": "apalike",
   "current_citInitial": 1,
   "eqLabelWithNumbers": true,
   "eqNumInitial": 1,
   "hotkeys": {
    "equation": "Ctrl-E",
    "itemize": "Ctrl-I"
   },
   "labels_anchors": false,
   "latex_user_defs": false,
   "report_style_numbering": false,
   "user_envs_cfg": false
  }
 },
 "nbformat": 4,
 "nbformat_minor": 4
}