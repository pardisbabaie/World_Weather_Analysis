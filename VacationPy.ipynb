{
 "cells": [
  {
   "cell_type": "code",
   "execution_count": 1,
   "metadata": {},
   "outputs": [],
   "source": [
    "# Import the dependencies.\n",
    "import pandas as pd\n",
    "import gmaps\n",
    "import requests\n",
    "# Import the API key.\n",
    "from config import g_key"
   ]
  },
  {
   "cell_type": "code",
   "execution_count": 2,
   "metadata": {},
   "outputs": [
    {
     "output_type": "execute_result",
     "data": {
      "text/plain": "   City_ID           City    Lat     Lng  Max Temp  Humidity  Cloudiness  \\\n0        0         Barrow  71.29 -156.79     32.00        96          90   \n1        1           Hofn  64.25  -15.21     42.80        70          90   \n2        2         Albany  42.60  -73.97     54.00        90         100   \n3        3        Catalao -18.17  -47.95     97.29        17           0   \n4        4  Mount Gambier -37.83  140.77     69.80        49          38   \n\n   Wind Speed Country                 Date  \n0       10.29      US  2020-10-02 15:14:01  \n1        4.70      IS  2020-10-02 15:14:01  \n2        5.55      US  2020-10-02 15:12:52  \n3       11.90      BR  2020-10-02 15:14:02  \n4       12.75      AU  2020-10-02 15:14:02  ",
      "text/html": "<div>\n<style scoped>\n    .dataframe tbody tr th:only-of-type {\n        vertical-align: middle;\n    }\n\n    .dataframe tbody tr th {\n        vertical-align: top;\n    }\n\n    .dataframe thead th {\n        text-align: right;\n    }\n</style>\n<table border=\"1\" class=\"dataframe\">\n  <thead>\n    <tr style=\"text-align: right;\">\n      <th></th>\n      <th>City_ID</th>\n      <th>City</th>\n      <th>Lat</th>\n      <th>Lng</th>\n      <th>Max Temp</th>\n      <th>Humidity</th>\n      <th>Cloudiness</th>\n      <th>Wind Speed</th>\n      <th>Country</th>\n      <th>Date</th>\n    </tr>\n  </thead>\n  <tbody>\n    <tr>\n      <th>0</th>\n      <td>0</td>\n      <td>Barrow</td>\n      <td>71.29</td>\n      <td>-156.79</td>\n      <td>32.00</td>\n      <td>96</td>\n      <td>90</td>\n      <td>10.29</td>\n      <td>US</td>\n      <td>2020-10-02 15:14:01</td>\n    </tr>\n    <tr>\n      <th>1</th>\n      <td>1</td>\n      <td>Hofn</td>\n      <td>64.25</td>\n      <td>-15.21</td>\n      <td>42.80</td>\n      <td>70</td>\n      <td>90</td>\n      <td>4.70</td>\n      <td>IS</td>\n      <td>2020-10-02 15:14:01</td>\n    </tr>\n    <tr>\n      <th>2</th>\n      <td>2</td>\n      <td>Albany</td>\n      <td>42.60</td>\n      <td>-73.97</td>\n      <td>54.00</td>\n      <td>90</td>\n      <td>100</td>\n      <td>5.55</td>\n      <td>US</td>\n      <td>2020-10-02 15:12:52</td>\n    </tr>\n    <tr>\n      <th>3</th>\n      <td>3</td>\n      <td>Catalao</td>\n      <td>-18.17</td>\n      <td>-47.95</td>\n      <td>97.29</td>\n      <td>17</td>\n      <td>0</td>\n      <td>11.90</td>\n      <td>BR</td>\n      <td>2020-10-02 15:14:02</td>\n    </tr>\n    <tr>\n      <th>4</th>\n      <td>4</td>\n      <td>Mount Gambier</td>\n      <td>-37.83</td>\n      <td>140.77</td>\n      <td>69.80</td>\n      <td>49</td>\n      <td>38</td>\n      <td>12.75</td>\n      <td>AU</td>\n      <td>2020-10-02 15:14:02</td>\n    </tr>\n  </tbody>\n</table>\n</div>"
     },
     "metadata": {},
     "execution_count": 2
    }
   ],
   "source": [
    "# Store the CSV you saved created in part one into a DataFrame.\n",
    "city_data_df = pd.read_csv(\"weather_data/cities.csv\")\n",
    "city_data_df.head()"
   ]
  },
  {
   "cell_type": "code",
   "execution_count": 3,
   "metadata": {
    "jupyter": {
     "source_hidden": true
    }
   },
   "outputs": [],
   "source": [
    "# Configure gmaps to use your Google API key.\n",
    "gmaps.configure(api_key= g_key)"
   ]
  },
  {
   "cell_type": "code",
   "execution_count": 4,
   "metadata": {},
   "outputs": [],
   "source": [
    "# Get the maximum temperature.\n",
    "max_temp = city_data_df[\"Max Temp\"]\n",
    "temps = []\n",
    "for temp in max_temp:\n",
    "    temps.append(max(temp, 0))"
   ]
  },
  {
   "cell_type": "code",
   "execution_count": 5,
   "metadata": {},
   "outputs": [
    {
     "output_type": "display_data",
     "data": {
      "text/plain": "Figure(layout=FigureLayout(height='420px'))",
      "application/vnd.jupyter.widget-view+json": {
       "version_major": 2,
       "version_minor": 0,
       "model_id": "ae2d6eb8de8a46ac8cdb637fa2e263aa"
      }
     },
     "metadata": {}
    }
   ],
   "source": [
    "# Heatmap of temperature\n",
    "# Get the latitude and longitude.\n",
    "locations = city_data_df[[\"Lat\", \"Lng\"]]\n",
    "# Get the maximum temperature.\n",
    "max_temp = city_data_df[\"Max Temp\"]\n",
    "# Assign the figure variable.\n",
    "fig = gmaps.figure()\n",
    "# Assign the heatmap variable.\n",
    "heat_layer = gmaps.heatmap_layer(locations, weights=[max(temp, 0) for temp in max_temp])\n",
    "# Add the heatmap layer.\n",
    "fig.add_layer(heat_layer)\n",
    "# Call the figure to plot the data.\n",
    "fig"
   ]
  },
  {
   "cell_type": "code",
   "execution_count": null,
   "metadata": {},
   "outputs": [],
   "source": []
  }
 ],
 "metadata": {
  "kernelspec": {
   "display_name": "test",
   "language": "python",
   "name": "test"
  },
  "language_info": {
   "codemirror_mode": {
    "name": "ipython",
    "version": 3
   },
   "file_extension": ".py",
   "mimetype": "text/x-python",
   "name": "python",
   "nbconvert_exporter": "python",
   "pygments_lexer": "ipython3",
   "version": "3.8.5-final"
  }
 },
 "nbformat": 4,
 "nbformat_minor": 4
}